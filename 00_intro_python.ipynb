{
  "nbformat": 4,
  "nbformat_minor": 0,
  "metadata": {
    "colab": {
      "provenance": [],
      "authorship_tag": "ABX9TyPwJ0hAbFqrbiQ57c9R8Jwg",
      "include_colab_link": true
    },
    "kernelspec": {
      "name": "python3",
      "display_name": "Python 3"
    },
    "language_info": {
      "name": "python"
    }
  },
  "cells": [
    {
      "cell_type": "markdown",
      "metadata": {
        "id": "view-in-github",
        "colab_type": "text"
      },
      "source": [
        "<a href=\"https://colab.research.google.com/github/asmajawaid/Python_Assignment04_00to05/blob/master/00_intro_python.ipynb\" target=\"_parent\"><img src=\"https://colab.research.google.com/assets/colab-badge.svg\" alt=\"Open In Colab\"/></a>"
      ]
    },
    {
      "cell_type": "code",
      "execution_count": null,
      "metadata": {
        "id": "bOqThpfzkkWW"
      },
      "outputs": [],
      "source": []
    },
    {
      "cell_type": "code",
      "source": [
        "print(\"01_add_two_number\")\n",
        "\n",
        "def add ():\n",
        "  print(\"This application for add two numbers.\")\n",
        "  first_number = int(input(\"Enter your first number.\"))\n",
        "  second_number = int(input(\"Enter your second number.\"))\n",
        "  total = int(first_number + second_number)\n",
        "  print(f'The total sum of {first_number} and {second_number} is {total}')\n",
        "\n",
        "if __name__ == \"__main__\":\n",
        "  add()"
      ],
      "metadata": {
        "colab": {
          "base_uri": "https://localhost:8080/"
        },
        "id": "87mRCGDylzwe",
        "outputId": "f91eb9f9-37f9-4065-b554-4801c47dcf7f"
      },
      "execution_count": 2,
      "outputs": [
        {
          "output_type": "stream",
          "name": "stdout",
          "text": [
            "01_add_two_number\n",
            "This application for add two numbers.\n",
            "Enter your first number.5\n",
            "Enter your second number.8\n",
            "The total sum of 5 and 8 is 13\n"
          ]
        }
      ]
    },
    {
      "cell_type": "code",
      "source": [
        "print(\"02_agreement_bot\")\n",
        "\n",
        "def bot():\n",
        "  animal = str(input(\"What is your favourite animal pet? \"))\n",
        "  print(f'My favorite animal is also {animal} !')\n",
        "\n",
        "if __name__ == \"__main__\":\n",
        "  bot()"
      ],
      "metadata": {
        "colab": {
          "base_uri": "https://localhost:8080/"
        },
        "id": "e2u74UAaohnr",
        "outputId": "7cdd8b81-5d92-48af-92d1-862467d46882"
      },
      "execution_count": 5,
      "outputs": [
        {
          "output_type": "stream",
          "name": "stdout",
          "text": [
            "02_agreement_bot\n",
            "What is your favourite animal?dog\n",
            "My favorite animal is also dog !\n"
          ]
        }
      ]
    },
    {
      "cell_type": "code",
      "source": [
        "print(\"03_fahrenheit_to_celsius\")\n",
        "\n",
        "def temp():\n",
        "  print(\"This code for converting fahrenheit to celsius. \")\n",
        "  fahrenheit_degree = float(input(\"Enter your fahrenheit degree. \"))\n",
        "  celsius_degree = (fahrenheit_degree - 32) * 5.0 / 9.0\n",
        "  print(f'Temprature {fahrenheit_degree} F = {celsius_degree} C')\n",
        "\n",
        "if __name__ == \"__main__\":\n",
        "  temp()"
      ],
      "metadata": {
        "colab": {
          "base_uri": "https://localhost:8080/"
        },
        "id": "5jjf_pVEp1ph",
        "outputId": "70514fdd-4841-4904-80f2-c04e9dba92b1"
      },
      "execution_count": 9,
      "outputs": [
        {
          "output_type": "stream",
          "name": "stdout",
          "text": [
            "03_fahrenheit_to_celsius\n",
            "This code for converting fahrenheit to celsius. \n",
            "Enter your fahrenheit degree. 67\n",
            "Temprature 67.0 F = 19.444444444444443 C\n"
          ]
        }
      ]
    },
    {
      "cell_type": "code",
      "source": [
        "print(\"04_how_old_are_they\")\n",
        "\n",
        "def add_ages():\n",
        "  Anton : int = 21  # Anton's age is given as 21 years old\n",
        "  Beth : int = 6 + Anton  # Beth is 6 years older than Anton, so add 6 to Anton's age to get Beth's\n",
        "  Chen : int = 20 + Beth  # Chen is 20 years older than Beth, so add 20 to Beth's age to get Chen's\n",
        "  Drew  : int= Chen + Anton  # Drew is as old as Chen's age plus Anton's age, so add them together\n",
        "  Ethan : int = Chen  # Ethan is the same age as Chen, so set Ethan's age equal to Chen's\n",
        "\n",
        "  print(\"Anton is \" + str(Anton))\n",
        "  print(\"Beth is \" + str(Beth))\n",
        "  print(\"Chen is \" + str(Chen))\n",
        "  print(\"Drew is \" + str(Drew))\n",
        "  print(\"Ethan is \" + str(Ethan))\n",
        "\n",
        "if __name__ == '__main__':\n",
        "    add_ages()\n",
        "\n"
      ],
      "metadata": {
        "colab": {
          "base_uri": "https://localhost:8080/"
        },
        "id": "8UMp9mcCtWsF",
        "outputId": "5bacb2af-a638-48e0-dba3-29b0e3dd543d"
      },
      "execution_count": 10,
      "outputs": [
        {
          "output_type": "stream",
          "name": "stdout",
          "text": [
            "04_how_old_are_they\n",
            "Anton is 21\n",
            "Beth is 27\n",
            "Chen is 47\n",
            "Drew is 68\n",
            "Ethan is 47\n"
          ]
        }
      ]
    },
    {
      "cell_type": "code",
      "source": [
        "print(\"05_triangle_perimeter\")\n",
        "\n",
        "def triangle_perimeter():\n",
        "  print(\"This is about sum of Triangle sides\")\n",
        "  side1: float = float(input(\"Enter your first side number of triangle \"))\n",
        "  side2: float = float(input(\"Enter your second side number of triangle \"))\n",
        "  side3: float = float(input(\"Enter your third side number of triangle \"))\n",
        "  total: float = float(side1 + side2 + side3)\n",
        "  print(f'The perimeter of the triangle is {total}.')\n",
        "\n",
        "if __name__ == '__main__':\n",
        "    triangle_perimeter()\n"
      ],
      "metadata": {
        "colab": {
          "base_uri": "https://localhost:8080/"
        },
        "id": "cl4DIWN5xLBj",
        "outputId": "596c4645-0834-4a37-ba29-512016e86796"
      },
      "execution_count": 14,
      "outputs": [
        {
          "output_type": "stream",
          "name": "stdout",
          "text": [
            "05_triangle_perimeter\n",
            "This is about sum of Triangle sides\n",
            "Enter your first side number of triangle 3\n",
            "Enter your second side number of triangle 4\n",
            "Enter your third side number of triangle 5.5\n",
            "The perimeter of the triangle is 12.5.\n"
          ]
        }
      ]
    },
    {
      "cell_type": "code",
      "source": [
        "print(\"06_square_number\")\n",
        "\n",
        "def square():\n",
        "  print(\"This code is about square of given number\")\n",
        "  num1: int = int(input(\"Enter your a number than I'll give you a square value. \"))\n",
        "  print(f'The square of {num1} is {num1 ** 2 }')\n",
        "\n",
        "if __name__ == '__main__':\n",
        "    square()"
      ],
      "metadata": {
        "colab": {
          "base_uri": "https://localhost:8080/"
        },
        "id": "HGs1_6kn0Ftf",
        "outputId": "9f0a53fb-a96d-4e9a-c98f-126fc89bd026"
      },
      "execution_count": 16,
      "outputs": [
        {
          "output_type": "stream",
          "name": "stdout",
          "text": [
            "06_square_number\n",
            "This code is about square of given number\n",
            "Enter your a number than I'll give you a square value. 4\n",
            "The square of 4 is 16\n"
          ]
        }
      ]
    }
  ]
}