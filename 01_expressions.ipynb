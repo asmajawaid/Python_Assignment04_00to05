{
  "nbformat": 4,
  "nbformat_minor": 0,
  "metadata": {
    "colab": {
      "provenance": [],
      "authorship_tag": "ABX9TyPBmM5m7J3h5ORX6iMe51x0",
      "include_colab_link": true
    },
    "kernelspec": {
      "name": "python3",
      "display_name": "Python 3"
    },
    "language_info": {
      "name": "python"
    }
  },
  "cells": [
    {
      "cell_type": "markdown",
      "metadata": {
        "id": "view-in-github",
        "colab_type": "text"
      },
      "source": [
        "<a href=\"https://colab.research.google.com/github/asmajawaid/Python_Assignment04_00to05/blob/master/01_expressions.ipynb\" target=\"_parent\"><img src=\"https://colab.research.google.com/assets/colab-badge.svg\" alt=\"Open In Colab\"/></a>"
      ]
    },
    {
      "cell_type": "code",
      "execution_count": null,
      "metadata": {
        "id": "7Lmai6nNwImM"
      },
      "outputs": [],
      "source": []
    },
    {
      "cell_type": "code",
      "source": [
        "import random\n",
        "print(\"01_dicesimulator\")\n",
        "\n",
        "def dicesimulator():\n",
        "  dice1: int = random.randint(1,6)\n",
        "  dice2: int = random.randint(1,6)\n",
        "  total: int = dice1 + dice2\n",
        "  print(f'Total of two dice: {total} ')\n",
        "\n",
        "def main():\n",
        "  die1 : int = 10\n",
        "  print(\"die1 in main() start as \" + str(die1))\n",
        "  dicesimulator()\n",
        "  dicesimulator()\n",
        "  dicesimulator()\n",
        "\n",
        "  print(\"die1 and main() is:\" + str(die1))\n",
        "\n",
        "if __name__ == '__main__':\n",
        "    main()\n"
      ],
      "metadata": {
        "colab": {
          "base_uri": "https://localhost:8080/"
        },
        "id": "D_0NR63cwRRI",
        "outputId": "3bfb5bfc-75ac-494e-cb11-f863eeed133d"
      },
      "execution_count": 6,
      "outputs": [
        {
          "output_type": "stream",
          "name": "stdout",
          "text": [
            "01_dicesimulator\n",
            "die1 in main() start as 10\n",
            "Total of two dice: 10 \n",
            "Total of two dice: 6 \n",
            "Total of two dice: 4 \n",
            "die1 and main() is:10\n"
          ]
        }
      ]
    },
    {
      "cell_type": "code",
      "source": [
        "print(\"02_e=mc2\")\n"
      ],
      "metadata": {
        "id": "yb4o_gYxolTE"
      },
      "execution_count": null,
      "outputs": []
    },
    {
      "cell_type": "code",
      "source": [
        "print(\"03_feet_to_inches\")\n"
      ],
      "metadata": {
        "id": "qcSurezDooQ5"
      },
      "execution_count": null,
      "outputs": []
    },
    {
      "cell_type": "code",
      "source": [
        "print(\"04_pythagorean_theorem\")\n"
      ],
      "metadata": {
        "id": "srl3xSRGouOq"
      },
      "execution_count": null,
      "outputs": []
    },
    {
      "cell_type": "code",
      "source": [
        "print(\"05_remainder_division\")"
      ],
      "metadata": {
        "id": "K03M6Tcnoz2K"
      },
      "execution_count": null,
      "outputs": []
    },
    {
      "cell_type": "code",
      "source": [
        "print(\"06_rolldice\")"
      ],
      "metadata": {
        "id": "tW7xyRN-o5Si"
      },
      "execution_count": null,
      "outputs": []
    },
    {
      "cell_type": "code",
      "source": [
        "print(\"07_tiny_mad_lib\")"
      ],
      "metadata": {
        "id": "T1neQbWno-Vq"
      },
      "execution_count": null,
      "outputs": []
    },
    {
      "cell_type": "code",
      "source": [
        "print(\"02_e=mc2\")\n",
        "\n"
      ],
      "metadata": {
        "id": "TZtZ8lCa01z1"
      },
      "execution_count": null,
      "outputs": []
    }
  ]
}