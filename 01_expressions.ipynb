{
  "nbformat": 4,
  "nbformat_minor": 0,
  "metadata": {
    "colab": {
      "provenance": [],
      "authorship_tag": "ABX9TyPFkgyjrfbd5kavIpuNw7PG",
      "include_colab_link": true
    },
    "kernelspec": {
      "name": "python3",
      "display_name": "Python 3"
    },
    "language_info": {
      "name": "python"
    }
  },
  "cells": [
    {
      "cell_type": "markdown",
      "metadata": {
        "id": "view-in-github",
        "colab_type": "text"
      },
      "source": [
        "<a href=\"https://colab.research.google.com/github/asmajawaid/Python_Assignment04_00to05/blob/master/01_expressions.ipynb\" target=\"_parent\"><img src=\"https://colab.research.google.com/assets/colab-badge.svg\" alt=\"Open In Colab\"/></a>"
      ]
    },
    {
      "cell_type": "code",
      "execution_count": null,
      "metadata": {
        "id": "7Lmai6nNwImM"
      },
      "outputs": [],
      "source": []
    },
    {
      "cell_type": "code",
      "source": [
        "import random\n",
        "print(\"01_dicesimulator\")\n",
        "\n",
        "def dicesimulator():\n",
        "  dice1: int = random.randint(1,6)\n",
        "  dice2: int = random.randint(1,6)\n",
        "  total: int = dice1 + dice2\n",
        "  print(f'Total of two dice: {total} ')\n",
        "\n",
        "def main():\n",
        "  die1 : int = 10\n",
        "  print(\"die1 in main() start as \" + str(die1))\n",
        "  dicesimulator()\n",
        "  dicesimulator()\n",
        "  dicesimulator()\n",
        "\n",
        "  print(\"die1 and main() is:\" + str(die1))\n",
        "\n",
        "if __name__ == '__main__':\n",
        "    main()\n"
      ],
      "metadata": {
        "colab": {
          "base_uri": "https://localhost:8080/"
        },
        "id": "D_0NR63cwRRI",
        "outputId": "3bfb5bfc-75ac-494e-cb11-f863eeed133d"
      },
      "execution_count": null,
      "outputs": [
        {
          "output_type": "stream",
          "name": "stdout",
          "text": [
            "01_dicesimulator\n",
            "die1 in main() start as 10\n",
            "Total of two dice: 10 \n",
            "Total of two dice: 6 \n",
            "Total of two dice: 4 \n",
            "die1 and main() is:10\n"
          ]
        }
      ]
    },
    {
      "cell_type": "code",
      "source": [
        "print(\"02_e=mc2\")\n",
        "def energy():\n",
        "  c : float =  299792458\n",
        "  m : float = float(input(\"Enter kilos of mass: \"))\n",
        "  print(\"E = m * c**2\")\n",
        "  print(\"Mass = \" + str(m) + \" kg\")\n",
        "  print(\"C = \" + str(c) + \" m/s\")\n",
        "  print(\"e = \" + str(m * c**2) + \" joules of energy!\")\n",
        "\n",
        "if __name__ == '__main__':\n",
        "    energy()\n"
      ],
      "metadata": {
        "id": "yb4o_gYxolTE",
        "colab": {
          "base_uri": "https://localhost:8080/"
        },
        "outputId": "8557f2c7-45a7-40b4-d480-4f121d2d2c0b"
      },
      "execution_count": 9,
      "outputs": [
        {
          "output_type": "stream",
          "name": "stdout",
          "text": [
            "02_e=mc2\n",
            "Enter kilos of mass: 130\n",
            "E = m * c**2\n",
            "Mass = 130.0 kg\n",
            "C = 299792458 m/s\n",
            "e = 1.1683817323578628e+19 joules of energy!\n"
          ]
        }
      ]
    },
    {
      "cell_type": "code",
      "source": [
        "print(\"03_feet_to_inches\")\n",
        "\n",
        "inch : int = 12\n",
        "\n",
        "def foot():\n",
        "  feet:int = int(input(\"Enter number of feet: \"))\n",
        "  print(f' There are {inch * feet} inches in {feet} feet.')\n",
        "\n",
        "if __name__ == '__main__':\n",
        "    foot()"
      ],
      "metadata": {
        "id": "qcSurezDooQ5",
        "colab": {
          "base_uri": "https://localhost:8080/"
        },
        "outputId": "b22ed601-f767-4711-eea9-b9f32a36f602"
      },
      "execution_count": 10,
      "outputs": [
        {
          "output_type": "stream",
          "name": "stdout",
          "text": [
            "03_feet_to_inches\n",
            "Enter number of feet: 45\n",
            " There are 540 inches in 45 feet.\n"
          ]
        }
      ]
    },
    {
      "cell_type": "code",
      "source": [
        "import math\n",
        "print(\"04_pythagorean_theorem\")\n",
        "\n",
        "def triangel():\n",
        "  AB : float = float(input(\"Enter the length of the side AB \"))\n",
        "  AC : float = float(input(\"Enter the length of the side AC \"))\n",
        "  BC : float = math.sqrt(AB ** 2 + AC ** 2)\n",
        "  print(f'The length of BC (the hypotenuse) is: {BC} ')\n",
        "\n",
        "if __name__ == '__main__':\n",
        "    triangel()\n"
      ],
      "metadata": {
        "id": "srl3xSRGouOq",
        "colab": {
          "base_uri": "https://localhost:8080/"
        },
        "outputId": "533b1bcc-a3da-46c4-ff96-3ba4e3d48440"
      },
      "execution_count": 12,
      "outputs": [
        {
          "output_type": "stream",
          "name": "stdout",
          "text": [
            "04_pythagorean_theorem\n",
            "Enter the length of the side AB 3.5\n",
            "Enter the length of the side AC 4.8\n",
            "The length of BC (the hypotenuse) is: 5.940538696111658 \n"
          ]
        }
      ]
    },
    {
      "cell_type": "code",
      "source": [
        "print(\"05_remainder_division\")\n",
        "\n",
        "def reminder():\n",
        "  num1:int = int(input(\"Please enter an integer to be divided: \"))\n",
        "  num2:int = int(input(\"Please enter an integer to divide by: \"))\n",
        "  quotient: int = num1 // num2\n",
        "  remainder: int = num1 % num2\n",
        "  print(f'The result of this division is {quotient} with a remainder of {remainder} ')\n",
        "\n",
        "if __name__ == '__main__':\n",
        "    reminder()\n",
        "\n"
      ],
      "metadata": {
        "id": "K03M6Tcnoz2K",
        "colab": {
          "base_uri": "https://localhost:8080/"
        },
        "outputId": "e715f835-51cf-42c7-e58e-d6bb60ddf4ef"
      },
      "execution_count": 15,
      "outputs": [
        {
          "output_type": "stream",
          "name": "stdout",
          "text": [
            "05_remainder_division\n",
            "Please enter an integer to be divided: 550\n",
            "Please enter an integer to divide by: 2\n",
            "The result of this division is 275 with a remainder of 0 \n"
          ]
        }
      ]
    },
    {
      "cell_type": "code",
      "source": [
        "import random\n",
        "\n",
        "print(\"06_rolldice\")\n",
        "\n",
        "def dice():\n",
        "  die1: int = random.randint(1, 6)\n",
        "  die2: int = random.randint(1, 6)\n",
        "  total: int = die1 + die2\n",
        "\n",
        "  print(\"First die:\", die1)\n",
        "  print(\"Second die:\", die2)\n",
        "  print(\"Total of two dice:\", total)\n",
        "\n",
        "if __name__ == '__main__':\n",
        "    dice()"
      ],
      "metadata": {
        "id": "tW7xyRN-o5Si",
        "colab": {
          "base_uri": "https://localhost:8080/"
        },
        "outputId": "2766a2d1-c624-4303-fe92-cd39efc84005"
      },
      "execution_count": 19,
      "outputs": [
        {
          "output_type": "stream",
          "name": "stdout",
          "text": [
            "06_rolldice\n",
            "First die: 1\n",
            "Second die: 1\n",
            "Total of two dice: 2\n"
          ]
        }
      ]
    },
    {
      "cell_type": "code",
      "source": [
        "print(\"06_seconds_in_year\")\n",
        "\n",
        "DAYS_PER_YEAR: int = 365\n",
        "HOURS_PER_DAY: int = 24\n",
        "MIN_PER_HOUR: int = 60\n",
        "SEC_PER_MIN: int = 60\n",
        "\n",
        "def seconds_in_year():\n",
        "  print(\"There are \" + str(DAYS_PER_YEAR * HOURS_PER_DAY * MIN_PER_HOUR * SEC_PER_MIN) + \" seconds in a year!\")\n",
        "\n",
        "if __name__ == '__main__':\n",
        "    seconds_in_year()\n"
      ],
      "metadata": {
        "id": "T1neQbWno-Vq",
        "colab": {
          "base_uri": "https://localhost:8080/"
        },
        "outputId": "005ff226-7fda-42b1-f753-03b3006d55b1"
      },
      "execution_count": 21,
      "outputs": [
        {
          "output_type": "stream",
          "name": "stdout",
          "text": [
            "06_seconds_in_year\n",
            "There are 31536000 seconds in a year!\n"
          ]
        }
      ]
    },
    {
      "cell_type": "code",
      "source": [
        "print(\"07_tiny_mad_lib\")\n",
        "\n",
        "def mad_lib():\n",
        "  adjective: str = input(\"Please type an adjective and press enter. \")\n",
        "  noun: str = input(\"Please type a noun and press enter. \")\n",
        "  verb: str = input(\"Please type a verb and press enter. \")\n",
        "  adverb: str = input(\"Enter a adverb. \")\n",
        "\n",
        "  print(f'Do you {verb} your {adjective} {noun} {adverb} ? That\\'s hilarious. ')\n",
        "\n",
        "if __name__ == '__main__':\n",
        "    mad_lib()\n",
        "\n"
      ],
      "metadata": {
        "id": "TZtZ8lCa01z1",
        "colab": {
          "base_uri": "https://localhost:8080/"
        },
        "outputId": "8f0bb3be-a39d-4ca1-be71-fea0e69523f5"
      },
      "execution_count": 22,
      "outputs": [
        {
          "output_type": "stream",
          "name": "stdout",
          "text": [
            "07_tiny_mad_lib\n",
            "Please type an adjective and press enter. brown\n",
            "Please type a noun and press enter. cat\n",
            "Please type a verb and press enter. bathing\n",
            "Enter a adverb. gorgeius\n",
            "Do you bathing your brown cat gorgeius ? That's hilarious. \n"
          ]
        }
      ]
    }
  ]
}