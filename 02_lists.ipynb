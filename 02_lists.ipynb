{
  "nbformat": 4,
  "nbformat_minor": 0,
  "metadata": {
    "colab": {
      "provenance": [],
      "authorship_tag": "ABX9TyPdEjAITXDaT9wzfB0biPXa",
      "include_colab_link": true
    },
    "kernelspec": {
      "name": "python3",
      "display_name": "Python 3"
    },
    "language_info": {
      "name": "python"
    }
  },
  "cells": [
    {
      "cell_type": "markdown",
      "metadata": {
        "id": "view-in-github",
        "colab_type": "text"
      },
      "source": [
        "<a href=\"https://colab.research.google.com/github/asmajawaid/Python_Assignment04_00to05/blob/master/02_lists.ipynb\" target=\"_parent\"><img src=\"https://colab.research.google.com/assets/colab-badge.svg\" alt=\"Open In Colab\"/></a>"
      ]
    },
    {
      "cell_type": "code",
      "execution_count": null,
      "metadata": {
        "colab": {
          "base_uri": "https://localhost:8080/"
        },
        "id": "Yzsawn5wOFva",
        "outputId": "f93c7733-7119-4800-dc08-d2596b7069b2"
      },
      "outputs": [
        {
          "output_type": "stream",
          "name": "stdout",
          "text": [
            "01_add_many_number\n",
            "15\n"
          ]
        }
      ],
      "source": [
        "print(\"01_add_many_number\")\n",
        "\n",
        "def add_numbers(numbers)-> int:\n",
        "  num:int =0\n",
        "  for i in numbers:\n",
        "    num += i\n",
        "  return num\n",
        "\n",
        "def main():\n",
        "  numbers : list[int] = [1,2,3,4,5]\n",
        "  sum = add_numbers(numbers)\n",
        "  print(sum)\n",
        "\n",
        "if __name__ == '__main__':\n",
        "    main()\n",
        "\n"
      ]
    },
    {
      "cell_type": "code",
      "source": [
        "print(\"02_double_list.\")\n",
        "\n",
        "def main():\n",
        "  numbers : list[int] = [1,2,3,4,5]\n",
        "  for i in range(len(numbers)):\n",
        "    index = numbers[i]\n",
        "    numbers[i] = index * 2\n",
        "  print(numbers)\n",
        "\n",
        "if __name__ == '__main__':\n",
        "    main()"
      ],
      "metadata": {
        "colab": {
          "base_uri": "https://localhost:8080/"
        },
        "id": "QBlU5EoaOLUI",
        "outputId": "7510329c-78b5-4d97-8943-f9bd49df418c"
      },
      "execution_count": null,
      "outputs": [
        {
          "output_type": "stream",
          "name": "stdout",
          "text": [
            "02_double_list.\n",
            "[2, 4, 6, 8, 10]\n"
          ]
        }
      ]
    },
    {
      "cell_type": "code",
      "source": [
        "print(\"04_flowing_with_data_structures.\")\n",
        "\n",
        "def add_three_copies(my_list, data):\n",
        "    for i in range(3):\n",
        "        my_list.append(data)\n",
        "\n",
        "def main():\n",
        "  message = input(\"Enter a message to copy: \")\n",
        "  my_list = []\n",
        "  print(\"List before:\", my_list)\n",
        "  add_three_copies(my_list, message)\n",
        "  print(\"List after:\", my_list)\n",
        "\n",
        "if __name__ == \"__main__\":\n",
        "    main()"
      ],
      "metadata": {
        "colab": {
          "base_uri": "https://localhost:8080/"
        },
        "id": "rejF3vvaReKl",
        "outputId": "ef38fcf1-4eaf-4bde-ab3f-af478919b480"
      },
      "execution_count": null,
      "outputs": [
        {
          "output_type": "stream",
          "name": "stdout",
          "text": [
            "04_flowing_with_data_structures.\n",
            "Enter a message to copy: hello\n",
            "List before: []\n",
            "List after: ['hello', 'hello', 'hello']\n"
          ]
        }
      ]
    },
    {
      "cell_type": "code",
      "source": [
        "print(\"05_get_first_element\")\n",
        "\n",
        "def get_first_element(lst):\n",
        "  print(lst[0])\n",
        "\n",
        "def get_lst():\n",
        "  lst = []\n",
        "  elem: str = input(\"Please enter an element to add to the list. \")\n",
        "  while elem != \"\":\n",
        "   lst.append(elem)\n",
        "   elem = input(\"Please enter an element of the list or press enter to stop. \")\n",
        "  return lst\n",
        "\n",
        "def main():\n",
        "  lst = get_lst()\n",
        "  get_first_element(lst)\n",
        "\n",
        "if __name__ == '__main__':\n",
        "    main()"
      ],
      "metadata": {
        "id": "H6IP8KGC-9Rv",
        "colab": {
          "base_uri": "https://localhost:8080/"
        },
        "outputId": "e5436ddf-e6b2-4148-b537-b76b79e5e0a6"
      },
      "execution_count": 7,
      "outputs": [
        {
          "output_type": "stream",
          "name": "stdout",
          "text": [
            "05_get_first_element\n",
            "Please enter an element to add to the list. apple\n",
            "Please enter an element of the list or press enter to stop. banana\n",
            "Please enter an element of the list or press enter to stop. mango\n",
            "Please enter an element of the list or press enter to stop. \n",
            "apple\n"
          ]
        }
      ]
    },
    {
      "cell_type": "code",
      "source": [
        "print(\"06_get_last_elemen\")\n",
        "\n",
        "def get_last_element(lst):\n",
        "  print(lst[-1])\n",
        "\n",
        "def get_lst():\n",
        "  lst = []\n",
        "  elem: str = input(\"Please enter an element to add to the list. \")\n",
        "  while elem != \"\":\n",
        "   lst.append(elem)\n",
        "   elem = input(\"Please enter an element of the list or press enter to stop. \")\n",
        "  return lst\n",
        "\n",
        "def main():\n",
        "  lst = get_lst()\n",
        "  get_last_element(lst)\n",
        "\n",
        "if __name__ == '__main__':\n",
        "    main()\n",
        "\n",
        "\n"
      ],
      "metadata": {
        "colab": {
          "base_uri": "https://localhost:8080/"
        },
        "id": "CFnTAXAjQQdJ",
        "outputId": "562f2738-9cc3-4213-e1dd-777ac2825e5e"
      },
      "execution_count": 8,
      "outputs": [
        {
          "output_type": "stream",
          "name": "stdout",
          "text": [
            "06_get_last_elemen\n",
            "Please enter an element to add to the list. aplle\n",
            "Please enter an element of the list or press enter to stop. bananna\n",
            "Please enter an element of the list or press enter to stop. l\n",
            "Please enter an element of the list or press enter to stop. top\n",
            "Please enter an element of the list or press enter to stop. \n",
            "top\n"
          ]
        }
      ]
    },
    {
      "cell_type": "code",
      "source": [
        "print(\"07_get_list\")\n",
        "\n",
        "def main():\n",
        "  lst = []\n",
        "\n",
        "  val = input(\"Enter a value: \")\n",
        "  while val:\n",
        "    lst.append(val)\n",
        "    val = input(\"Enter a value. \")\n",
        "\n",
        "  print(\"Here is the list:\" , lst)\n",
        "\n",
        "if __name__ == '__main__':\n",
        "    main()"
      ],
      "metadata": {
        "colab": {
          "base_uri": "https://localhost:8080/"
        },
        "id": "dKIeOvHmRUIW",
        "outputId": "1df4eff9-3a2a-4c63-8841-674f293ee6bc"
      },
      "execution_count": 9,
      "outputs": [
        {
          "output_type": "stream",
          "name": "stdout",
          "text": [
            "07_get_list\n",
            "Enter a value: 1\n",
            "Enter a value. 2\n",
            "Enter a value. 3\n",
            "Enter a value. 4\n",
            "Enter a value. 5\n",
            "Enter a value. 6\n",
            "Enter a value. 7\n",
            "Enter a value. 8\n",
            "Enter a value. 9\n",
            "Enter a value. \n",
            "Here is the list: ['1', '2', '3', '4', '5', '6', '7', '8', '9']\n"
          ]
        }
      ]
    },
    {
      "cell_type": "code",
      "source": [
        "print(\"08_shorten\")\n",
        "\n",
        "MAX_LENGTH : int = 3\n",
        "\n",
        "def shorten(lst):\n",
        "  while len(lst) >= MAX_LENGTH:\n",
        "    last_elem = lst.pop()\n",
        "    print(last_elem)\n",
        "\n",
        "\n",
        "def get_lst():\n",
        "  lst =[]\n",
        "  element = input(\"Please enter an element of the list or press enter to stop. \")\n",
        "  while element != \"\":\n",
        "    lst.append(element)\n",
        "    element = input(\"Please enter an element of the list or press enter to stop. \")\n",
        "  return lst\n",
        "\n",
        "def main():\n",
        "    lst = get_lst()\n",
        "    shorten(lst)\n",
        "\n",
        "if __name__ == '__main__':\n",
        "    main()"
      ],
      "metadata": {
        "colab": {
          "base_uri": "https://localhost:8080/"
        },
        "id": "a5VJiHptSi7W",
        "outputId": "ba526e31-2083-4f89-ba1a-89625ccbbf1e"
      },
      "execution_count": 25,
      "outputs": [
        {
          "output_type": "stream",
          "name": "stdout",
          "text": [
            "08_shorten\n",
            "Please enter an element of the list or press enter to stop. 1\n",
            "Please enter an element of the list or press enter to stop. 2\n",
            "Please enter an element of the list or press enter to stop. 3\n",
            "Please enter an element of the list or press enter to stop. 4\n",
            "Please enter an element of the list or press enter to stop. 5\n",
            "Please enter an element of the list or press enter to stop. 5\n",
            "Please enter an element of the list or press enter to stop. \n",
            "5\n",
            "5\n",
            "4\n",
            "3\n"
          ]
        }
      ]
    },
    {
      "cell_type": "code",
      "source": [],
      "metadata": {
        "id": "kNGCLLp7iri3"
      },
      "execution_count": null,
      "outputs": []
    }
  ]
}