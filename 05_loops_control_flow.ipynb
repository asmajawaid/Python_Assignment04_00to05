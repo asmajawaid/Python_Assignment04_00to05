{
  "nbformat": 4,
  "nbformat_minor": 0,
  "metadata": {
    "colab": {
      "provenance": [],
      "authorship_tag": "ABX9TyNZjkWN1L3MdRgBZF6bC4tM",
      "include_colab_link": true
    },
    "kernelspec": {
      "name": "python3",
      "display_name": "Python 3"
    },
    "language_info": {
      "name": "python"
    }
  },
  "cells": [
    {
      "cell_type": "markdown",
      "metadata": {
        "id": "view-in-github",
        "colab_type": "text"
      },
      "source": [
        "<a href=\"https://colab.research.google.com/github/asmajawaid/Python_Assignment04_00to05/blob/master/05_loops_control_flow.ipynb\" target=\"_parent\"><img src=\"https://colab.research.google.com/assets/colab-badge.svg\" alt=\"Open In Colab\"/></a>"
      ]
    },
    {
      "cell_type": "code",
      "execution_count": 3,
      "metadata": {
        "colab": {
          "base_uri": "https://localhost:8080/"
        },
        "id": "jeKYnWpNESVd",
        "outputId": "3df22091-77a9-4718-ae86-3ba7df73c303"
      },
      "outputs": [
        {
          "output_type": "stream",
          "name": "stdout",
          "text": [
            "00_guess_my_number\n",
            "I am thinking of a number between 1 and 99...\n",
            "Enter a guess: 48\n",
            "Your guess is too low\n",
            "Enter a guess: 67\n",
            "Your guess is too high\n",
            "Enter a guess: 60\n",
            "Your guess is too high\n",
            "Enter a guess: 55\n",
            "Your guess is too low\n",
            "Enter a guess: 58\n",
            "Your guess is too low\n",
            "Enter a guess: 59\n",
            "Congrats! The number was: 59\n"
          ]
        }
      ],
      "source": [
        "import random\n",
        "\n",
        "print(\"00_guess_my_number\")\n",
        "\n",
        "def main():\n",
        "  secret_number = random.randint(1, 99)\n",
        "\n",
        "  print(\"I am thinking of a number between 1 and 99...\")\n",
        "  guess = int(input(\"Enter a guess: \"))\n",
        "\n",
        "  while guess != secret_number:\n",
        "    if guess < secret_number:\n",
        "      print(\"Your guess is too low\")\n",
        "    else:\n",
        "      print(\"Your guess is too high\")\n",
        "    guess = int(input(\"Enter a guess: \"))\n",
        "\n",
        "  print(\"Congrats! The number was: \" + str(secret_number))\n",
        "\n",
        "if __name__ == '__main__':\n",
        "    main()\n",
        "\n",
        "\n",
        "\n"
      ]
    },
    {
      "cell_type": "code",
      "source": [
        "print(\"01_fibonacci\")\n",
        "\n",
        "MAX_TERM_VALUE : int = 10000\n",
        "\n",
        "def main():\n",
        "    curr_term = 0  # The 0th Fibonacci Number\n",
        "    next_term = 1  # The 1st Fibonacci Number\n",
        "\n",
        "    while curr_term <= MAX_TERM_VALUE:\n",
        "        print(curr_term)\n",
        "        term_after_next = curr_term + next_term\n",
        "        curr_term = next_term\n",
        "        next_term = term_after_next\n",
        "\n",
        "if __name__ == '__main__':\n",
        "    main()\n"
      ],
      "metadata": {
        "colab": {
          "base_uri": "https://localhost:8080/"
        },
        "id": "fO3tW0OgJK0n",
        "outputId": "6b53eb4a-f1da-44e7-9f59-cc8eccec7524"
      },
      "execution_count": 4,
      "outputs": [
        {
          "output_type": "stream",
          "name": "stdout",
          "text": [
            "01_fibonacci\n",
            "0\n",
            "1\n",
            "1\n",
            "2\n",
            "3\n",
            "5\n",
            "8\n",
            "13\n",
            "21\n",
            "34\n",
            "55\n",
            "89\n",
            "144\n",
            "233\n",
            "377\n",
            "610\n",
            "987\n",
            "1597\n",
            "2584\n",
            "4181\n",
            "6765\n"
          ]
        }
      ]
    },
    {
      "cell_type": "code",
      "source": [
        "print(\"01_fibonacci\")\n",
        "\n",
        "MAX_VALUE : int = 10000\n",
        "\n",
        "def main():\n",
        "  a,b = 0,1\n",
        "  print(a,b, \" \")\n",
        "\n",
        "  while True:\n",
        "    c= a+b\n",
        "    if c>= MAX_VALUE:\n",
        "      break\n",
        "    print(c, \" \")\n",
        "    a,b = b,c\n",
        "\n",
        "if __name__ == '__main__':\n",
        "    main()\n"
      ],
      "metadata": {
        "colab": {
          "base_uri": "https://localhost:8080/"
        },
        "id": "vB-BNIG2U0kU",
        "outputId": "49f232cf-7e61-42dd-a404-408b3fac7e2e"
      },
      "execution_count": 4,
      "outputs": [
        {
          "output_type": "stream",
          "name": "stdout",
          "text": [
            "01_fibonacci\n",
            "0 1  \n",
            "1  \n",
            "2  \n",
            "3  \n",
            "5  \n",
            "8  \n",
            "13  \n",
            "21  \n",
            "34  \n",
            "55  \n",
            "89  \n",
            "144  \n",
            "233  \n",
            "377  \n",
            "610  \n",
            "987  \n",
            "1597  \n",
            "2584  \n",
            "4181  \n",
            "6765  \n"
          ]
        }
      ]
    },
    {
      "cell_type": "code",
      "source": [
        "print(\"02_print_events.\")\n",
        "\n",
        "def main():\n",
        "  for i in range(20):\n",
        "    print(i * 2)\n",
        "\n"
      ],
      "metadata": {
        "colab": {
          "base_uri": "https://localhost:8080/"
        },
        "id": "Phaxu2qJWdVh",
        "outputId": "7b533279-b4eb-4643-c045-876f281b7a4d"
      },
      "execution_count": 5,
      "outputs": [
        {
          "output_type": "stream",
          "name": "stdout",
          "text": [
            "02_print_events.\n",
            "0\n",
            "2\n",
            "4\n",
            "6\n",
            "8\n",
            "10\n",
            "12\n",
            "14\n",
            "16\n",
            "18\n",
            "20\n",
            "22\n",
            "24\n",
            "26\n",
            "28\n",
            "30\n",
            "32\n",
            "34\n",
            "36\n",
            "38\n"
          ]
        }
      ]
    },
    {
      "cell_type": "code",
      "source": [
        "print(\"03_wholesome_machine\")\n",
        "\n",
        "AFFIRMATION : str = \"I am capable of doing anything I put my mind to.\"\n",
        "\n",
        "def main():\n",
        "  print(\"WELCOME\")\n",
        "  while True:\n",
        "    use_input = input(\"Please type the following affirmation: \\n \" + AFFIRMATION)\n",
        "    if use_input == AFFIRMATION:\n",
        "       print(\"That's right! :)\")\n",
        "       break\n",
        "    else:\n",
        "      print(\"That was not the affirmation. Try again! \")\n",
        "\n",
        "\n",
        "if __name__ == '__main__':\n",
        "    main()"
      ],
      "metadata": {
        "colab": {
          "base_uri": "https://localhost:8080/"
        },
        "id": "kFom7S5JZeV2",
        "outputId": "c2980ed6-9c43-4e57-a7bc-cdea167ef48d"
      },
      "execution_count": 11,
      "outputs": [
        {
          "output_type": "stream",
          "name": "stdout",
          "text": [
            "03_wholesome_machine\n",
            "WELCOME\n",
            "Please type the following affirmation: \n",
            " I am capable of doing anything I put my mind to.ok\n",
            "That was not the affirmation. Try again! \n",
            "Please type the following affirmation: \n",
            " I am capable of doing anything I put my mind to.ok\n",
            "That was not the affirmation. Try again! \n",
            "Please type the following affirmation: \n",
            " I am capable of doing anything I put my mind to.oll\n",
            "That was not the affirmation. Try again! \n",
            "Please type the following affirmation: \n",
            " I am capable of doing anything I put my mind to.I am capable of doing anything I put my mind to.\n",
            "That's right! :)\n"
          ]
        }
      ]
    },
    {
      "cell_type": "code",
      "source": [
        "print(\"04_liftoff\")\n",
        "\n",
        "def main():\n",
        "  for i in range(10, 0, -1):\n",
        "   print(i, end = \" \")\n",
        "print(\"LiftOff\")\n",
        "\n",
        "if __name__ == '__main__':\n",
        "    main()\n"
      ],
      "metadata": {
        "colab": {
          "base_uri": "https://localhost:8080/"
        },
        "id": "JrpupjKwbmj5",
        "outputId": "7c427de6-66fe-41a7-915c-b916f4b44938"
      },
      "execution_count": 14,
      "outputs": [
        {
          "output_type": "stream",
          "name": "stdout",
          "text": [
            "04_liftoff\n",
            "LiftOff\n",
            "10 9 8 7 6 5 4 3 2 1 "
          ]
        }
      ]
    },
    {
      "cell_type": "code",
      "source": [
        "print(\"05_double_it.\")\n",
        "\n",
        "def main():\n",
        "  user_value = int(input(\"Enter a Number. \"))\n",
        "  while user_value < 100:\n",
        "    user_value = user_value * 2\n",
        "    print(user_value)\n",
        "\n",
        "if __name__ == '__main__':\n",
        "    main()"
      ],
      "metadata": {
        "colab": {
          "base_uri": "https://localhost:8080/"
        },
        "id": "EMDWVgEldTnY",
        "outputId": "d80b5baf-7a7c-422f-fb2e-87b75301aee1"
      },
      "execution_count": 16,
      "outputs": [
        {
          "output_type": "stream",
          "name": "stdout",
          "text": [
            "05_double_it.\n",
            "Enter a Number. 5\n",
            "10\n",
            "20\n",
            "40\n",
            "80\n",
            "160\n"
          ]
        }
      ]
    }
  ]
}