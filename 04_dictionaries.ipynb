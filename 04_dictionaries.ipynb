{
  "cells": [
    {
      "cell_type": "markdown",
      "metadata": {
        "id": "view-in-github",
        "colab_type": "text"
      },
      "source": [
        "<a href=\"https://colab.research.google.com/github/asmajawaid/Python_Assignment04_00to05/blob/master/04_dictionaries.ipynb\" target=\"_parent\"><img src=\"https://colab.research.google.com/assets/colab-badge.svg\" alt=\"Open In Colab\"/></a>"
      ]
    },
    {
      "cell_type": "code",
      "execution_count": null,
      "metadata": {
        "colab": {
          "base_uri": "https://localhost:8080/"
        },
        "id": "pjdNRnIBaQ_n",
        "outputId": "5c7e6ff3-9b05-4344-a8d6-f524a751f57e"
      },
      "outputs": [
        {
          "name": "stdout",
          "output_type": "stream",
          "text": [
            "00_count_num\n",
            "Enter a number (or Exit to quit): 3\n",
            "\n",
            " number counts: \n",
            "3 appears 1 times\n"
          ]
        }
      ],
      "source": [
        "print(\"00_count_num\")\n",
        "\n",
        "def count_numbers():\n",
        "  count_dict =  {}\n",
        "\n",
        "  while True:\n",
        "    num = input(\"Enter a number (or Exit to quit): \")\n",
        "    if num.title() == 'Exit':\n",
        "      break\n",
        "    if num.isdigit():\n",
        "      num = int(num)\n",
        "      count_dict[num] = count_dict.get(num, 0) + 1\n",
        "    else:\n",
        "      print(\"Invalid input. Please enter a number or 'Exit'. \")\n",
        "\n",
        "    return count_dict\n",
        "\n",
        "def display_counts(count_dict):\n",
        "  print(\"\\n number counts: \")\n",
        "  for key,value in count_dict.items():\n",
        "    print(f'{key} appears {value} times' )\n",
        "\n",
        "if __name__ == '__main__':\n",
        "  counts = count_numbers()\n",
        "  display_counts(counts)\n"
      ]
    },
    {
      "cell_type": "code",
      "execution_count": null,
      "metadata": {
        "colab": {
          "base_uri": "https://localhost:8080/"
        },
        "id": "K4d62iqPiydx",
        "outputId": "2b1ec5fc-0670-4e68-ea48-a696a81d9efd"
      },
      "outputs": [
        {
          "name": "stdout",
          "output_type": "stream",
          "text": [
            "Enter a number (or press Enter to finish): 3\n",
            "Enter a number (or press Enter to finish): 4\n",
            "Enter a number (or press Enter to finish): 5\n",
            "Enter a number (or press Enter to finish): 6\n",
            "Enter a number (or press Enter to finish): 7\n",
            "Enter a number (or press Enter to finish): 8\n",
            "Enter a number (or press Enter to finish): 5\n",
            "Enter a number (or press Enter to finish): 3\n",
            "Enter a number (or press Enter to finish): \n",
            "\n",
            "Number counts:\n",
            "3 appears 2 times.\n",
            "4 appears 1 time.\n",
            "5 appears 2 times.\n",
            "6 appears 1 time.\n",
            "7 appears 1 time.\n",
            "8 appears 1 time.\n"
          ]
        }
      ],
      "source": [
        "print(\"00_count_num\")\n",
        "\n",
        "def get_user_numbers():\n",
        "    \"\"\"\n",
        "    Prompt the user to enter numbers and store them in a list.\n",
        "    Input stops when the user enters a blank line.\n",
        "    \"\"\"\n",
        "    user_numbers = []\n",
        "    while True:\n",
        "        user_input = input(\"Enter a number (or press Enter to finish): \")\n",
        "\n",
        "        if user_input == \"\":\n",
        "            break\n",
        "\n",
        "        try:\n",
        "            num = int(user_input)\n",
        "            user_numbers.append(num)\n",
        "        except ValueError:\n",
        "            print(\"Invalid input. Please enter a valid number.\")\n",
        "\n",
        "    return user_numbers\n",
        "\n",
        "\n",
        "def count_nums(num_lst):\n",
        "    \"\"\"\n",
        "    Count how many times each number appears in the list.\n",
        "    Returns a dictionary where keys are numbers and values are their counts.\n",
        "    \"\"\"\n",
        "    num_dict = {}\n",
        "    for num in num_lst:\n",
        "        num_dict[num] = num_dict.get(num, 0) + 1\n",
        "    return num_dict\n",
        "\n",
        "\n",
        "def print_counts(num_dict):\n",
        "    \"\"\"\n",
        "    Print how many times each number appeared.\n",
        "    \"\"\"\n",
        "    print(\"\\nNumber counts:\")\n",
        "    for num, count in num_dict.items():\n",
        "        print(f\"{num} appears {count} time{'s' if count > 1 else ''}.\")\n",
        "\n",
        "\n",
        "def main():\n",
        "    \"\"\"\n",
        "    Orchestrates user input, counting, and output.\n",
        "    \"\"\"\n",
        "    user_numbers = get_user_numbers()\n",
        "    num_dict = count_nums(user_numbers)\n",
        "    print_counts(num_dict)\n",
        "\n",
        "\n",
        "# Python boilerplate\n",
        "if __name__ == '__main__':\n",
        "    main()\n"
      ]
    },
    {
      "cell_type": "code",
      "execution_count": null,
      "metadata": {
        "colab": {
          "background_save": true,
          "base_uri": "https://localhost:8080/"
        },
        "id": "PHOYFP7vjFUp",
        "outputId": "d94f9b56-3564-428e-af1b-0102c1def948"
      },
      "outputs": [
        {
          "name": "stdout",
          "output_type": "stream",
          "text": [
            "01_phonebook\n",
            "\n",
            " Phonebook Manue\n",
            "1. Add contact\n",
            "2. Search contact\n",
            "3. Delete contact\n",
            "4. Display contact\n",
            "5. Exit\n",
            "asma added to the phonebook. \n",
            "\n",
            " Phonebook Manue\n",
            "1. Add contact\n",
            "2. Search contact\n",
            "3. Delete contact\n",
            "4. Display contact\n",
            "5. Exit\n"
          ]
        }
      ],
      "source": [
        "print(\"01_phonebook\")\n",
        "\n",
        "def add_contact(phonebook):\n",
        "  name  = input(\"Enter contact name: \")\n",
        "  number = input(\"Enter contact number: \")\n",
        "\n",
        "  if name in phonebook:\n",
        "    print(f'{name} already exists in the phonebook. ')\n",
        "  else:\n",
        "    phonebook[name] = number\n",
        "    print(f'{name} added to the phonebook. ')\n",
        "\n",
        "def search_contact(phonebook):\n",
        "  name = input(\"Enter contact name to search. \")\n",
        "\n",
        "  if name in phonebook:\n",
        "    print(f'{name}: {phonebook[name]}')\n",
        "  else:\n",
        "    print(f'{name} not found in the phonebook. ')\n",
        "\n",
        "def display_contact(phonebook):\n",
        "  if phonebook:\n",
        "    print(\"\\n Phonebook Contacts list \")\n",
        "    for name,number in phonebook.items():\n",
        "      print(f'{name} : {number}')\n",
        "  else:\n",
        "    print(\"Your phonebook is empaty. \")\n",
        "\n",
        "def delete_contact(phonebook):\n",
        "  name = input(\"Enter contact name to delete: \")\n",
        "  if name in phonebook:\n",
        "    del phonebook[name]\n",
        "    print(f'{name} is deleted successfully. ')\n",
        "  else:\n",
        "    print(f'{name} not found in phonebook. ')\n",
        "\n",
        "if __name__ == '__main__':\n",
        "    phonebook = {}\n",
        "\n",
        "    while True:\n",
        "      print(\"\\n Phonebook Manue\")\n",
        "      print(\"1. Add contact\")\n",
        "      print(\"2. Search contact\")\n",
        "      print(\"3. Delete contact\")\n",
        "      print(\"4. Display contact\")\n",
        "      print(\"5. Exit\")\n",
        "\n",
        "      choice = input(\"Enter your choice 1 to 5: \")\n",
        "      if choice == '1':\n",
        "        add_contact(phonebook)\n",
        "      elif choice == '2':\n",
        "        search_contact(phonebook)\n",
        "      elif choice == '3':\n",
        "        delete_contact(phonebook)\n",
        "      elif choice == '4':\n",
        "        display_contact(phonebook)\n",
        "      elif choice == '5':\n",
        "        print(\"Exiting phonebook. GoodBye!\")\n",
        "        break\n",
        "      else:\n",
        "        print(\"Invalid choice. Please enter a number between 1 to 5 \")"
      ]
    },
    {
      "cell_type": "code",
      "source": [
        "print(\"\")"
      ],
      "metadata": {
        "id": "eNDsJ8wLRXW5"
      },
      "execution_count": null,
      "outputs": []
    },
    {
      "cell_type": "code",
      "execution_count": null,
      "metadata": {
        "id": "8Sqqt4S7cof3"
      },
      "outputs": [],
      "source": []
    }
  ],
  "metadata": {
    "colab": {
      "provenance": [],
      "authorship_tag": "ABX9TyPizN2sfLcNzEZxpIBQmW4D",
      "include_colab_link": true
    },
    "kernelspec": {
      "display_name": "Python 3",
      "name": "python3"
    },
    "language_info": {
      "name": "python"
    }
  },
  "nbformat": 4,
  "nbformat_minor": 0
}