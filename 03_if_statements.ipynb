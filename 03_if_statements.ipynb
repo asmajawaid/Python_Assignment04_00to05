{
  "nbformat": 4,
  "nbformat_minor": 0,
  "metadata": {
    "colab": {
      "provenance": [],
      "authorship_tag": "ABX9TyNxnddPYpWJwoTejYX/j9r9",
      "include_colab_link": true
    },
    "kernelspec": {
      "name": "python3",
      "display_name": "Python 3"
    },
    "language_info": {
      "name": "python"
    }
  },
  "cells": [
    {
      "cell_type": "markdown",
      "metadata": {
        "id": "view-in-github",
        "colab_type": "text"
      },
      "source": [
        "<a href=\"https://colab.research.google.com/github/asmajawaid/Python_Assignment04_00to05/blob/master/03_if_statements.ipynb\" target=\"_parent\"><img src=\"https://colab.research.google.com/assets/colab-badge.svg\" alt=\"Open In Colab\"/></a>"
      ]
    },
    {
      "cell_type": "code",
      "source": [
        "print(\"01_print_events\")\n",
        "\n",
        "def even():\n",
        "  for i in range(20):\n",
        "    print(\"Here is 20 even numbers are:\", i * 2)\n",
        "\n",
        "if __name__ == '__main__':\n",
        "  even()"
      ],
      "metadata": {
        "colab": {
          "base_uri": "https://localhost:8080/"
        },
        "id": "00dxvL7KPGHA",
        "outputId": "d83af329-52ce-42fe-8671-89b6cd3edc14"
      },
      "execution_count": 6,
      "outputs": [
        {
          "output_type": "stream",
          "name": "stdout",
          "text": [
            "01_print_events\n",
            "Here is 20 even numbers are: 0\n",
            "Here is 20 even numbers are: 2\n",
            "Here is 20 even numbers are: 4\n",
            "Here is 20 even numbers are: 6\n",
            "Here is 20 even numbers are: 8\n",
            "Here is 20 even numbers are: 10\n",
            "Here is 20 even numbers are: 12\n",
            "Here is 20 even numbers are: 14\n",
            "Here is 20 even numbers are: 16\n",
            "Here is 20 even numbers are: 18\n",
            "Here is 20 even numbers are: 20\n",
            "Here is 20 even numbers are: 22\n",
            "Here is 20 even numbers are: 24\n",
            "Here is 20 even numbers are: 26\n",
            "Here is 20 even numbers are: 28\n",
            "Here is 20 even numbers are: 30\n",
            "Here is 20 even numbers are: 32\n",
            "Here is 20 even numbers are: 34\n",
            "Here is 20 even numbers are: 36\n",
            "Here is 20 even numbers are: 38\n"
          ]
        }
      ]
    },
    {
      "cell_type": "code",
      "source": [
        "print(\"02_international_voting_age\")\n",
        "\n",
        "PETURKSBOUIPO : int = 16\n",
        "STANLAU: int = 25\n",
        "MAYENGUA : int = 48\n",
        "age : int = int(input(\"How old are you? \"))\n",
        "\n",
        "def main():\n",
        "\n",
        "  if age >= PETURKSBOUIPO:\n",
        "    print(\"You can vote in Peturksbouipo where the voting age is \" + str(PETURKSBOUIPO) + \".\")\n",
        "  else:\n",
        "    print(\"You cannot vote in Peturksbouipo where the voting age is \" + str(PETURKSBOUIPO) + \".\")\n",
        "\n",
        "  if age >= STANLAU:\n",
        "    print(\"You can vote in STANLAU where the voting age is \" + str(STANLAU) + \".\")\n",
        "  else:\n",
        "    print(\"You cannot vote in STANLAU where the voting age is \" + str(STANLAU) + \".\")\n",
        "\n",
        "  if age >= MAYENGUA:\n",
        "    print(\"You can vote in Mayengua where the voting age is \" + str(MAYENGUA) + \".\")\n",
        "  else:\n",
        "     print(\"You cannot vote in Mayengua where the voting age is \" + str(MAYENGUA) + \".\")\n",
        "\n",
        "if __name__ == '__main__':\n",
        "    main()"
      ],
      "metadata": {
        "colab": {
          "base_uri": "https://localhost:8080/"
        },
        "id": "_LO8uojkQy5B",
        "outputId": "396e2aa2-1542-484f-bfd0-6a65844285e0"
      },
      "execution_count": 9,
      "outputs": [
        {
          "output_type": "stream",
          "name": "stdout",
          "text": [
            "02_international_voting_age\n",
            "How old are you? 45\n",
            "You can vote in Peturksbouipo where the voting age is 16.\n",
            "You can vote in STANLAU where the voting age is 25.\n",
            "You cannot vote in Mayengua where the voting age is 48.\n"
          ]
        }
      ]
    },
    {
      "cell_type": "code",
      "source": [
        "print(\"03_leap_year\")\n",
        "\n",
        "def leap_year():\n",
        "  year = int(input('Please input a year: '))\n",
        "\n",
        "\n",
        "  if year % 4 == 0:\n",
        "    if year % 100 == 0:\n",
        "      if year % 400 == 0:\n",
        "        print(\"That's a leap year!\")\n",
        "      else:\n",
        "        print(\"That's not a leap year.\")\n",
        "    else:\n",
        "      print(\"That's a leap year!\")\n",
        "  else:\n",
        "    print(\"That's not a leap year.\")\n",
        "\n",
        "if __name__ == '__main__':\n",
        "    leap_year()\n",
        "\n",
        ""
      ],
      "metadata": {
        "colab": {
          "base_uri": "https://localhost:8080/"
        },
        "id": "EtMYPf0SUgiS",
        "outputId": "ad9adf12-e580-44cc-8e6f-8823757b5924"
      },
      "execution_count": 10,
      "outputs": [
        {
          "output_type": "stream",
          "name": "stdout",
          "text": [
            "03_leap_year\n",
            "Please input a year: 2025\n",
            "That's not a leap year.\n"
          ]
        }
      ]
    },
    {
      "cell_type": "code",
      "source": [
        "print(\"04_tall_enough_to_ride\")\n",
        "\n",
        "MINIMUM_HEIGHT : int = 50\n",
        "def main():\n",
        "  user: int = int(input(\"How tall are you? \"))\n",
        "  if user >= MINIMUM_HEIGHT:\n",
        "    print(\"You're tall enough to ride!\")\n",
        "  else:\n",
        "    print(\"You're not tall enough to ride, but maybe next year!\")\n",
        "\n",
        "if __name__ == '__main__':\n",
        "    main()"
      ],
      "metadata": {
        "colab": {
          "base_uri": "https://localhost:8080/"
        },
        "id": "qFqEFhu9WuGI",
        "outputId": "bdd2363b-3feb-47e1-beb8-ac10c32afce2"
      },
      "execution_count": 13,
      "outputs": [
        {
          "output_type": "stream",
          "name": "stdout",
          "text": [
            "04_tall_enough_to_ride\n",
            "How tall are you? 45\n",
            "You're not tall enough to ride, but maybe next year!\n"
          ]
        }
      ]
    },
    {
      "cell_type": "code",
      "source": [],
      "metadata": {
        "id": "XpzSoROtYFbQ"
      },
      "execution_count": null,
      "outputs": []
    },
    {
      "cell_type": "code",
      "source": [
        "import random\n",
        "\n",
        "print(\"05_random_numbers\")\n",
        "\n",
        "def main():\n",
        "  for i in range(10):\n",
        "    num :list[int]  = random.randint(1,100)\n",
        "    print(num)\n",
        "\n",
        "if __name__ == '__main__':\n",
        "    main()\n",
        "\n"
      ],
      "metadata": {
        "colab": {
          "base_uri": "https://localhost:8080/"
        },
        "id": "MTKj2zn4YFcu",
        "outputId": "3c0e466c-f236-460c-8372-5eba85c42417"
      },
      "execution_count": 14,
      "outputs": [
        {
          "output_type": "stream",
          "name": "stdout",
          "text": [
            "05_random_numbers\n",
            "32\n",
            "29\n",
            "49\n",
            "51\n",
            "53\n",
            "27\n",
            "36\n",
            "18\n",
            "28\n",
            "47\n"
          ]
        }
      ]
    },
    {
      "cell_type": "markdown",
      "source": [],
      "metadata": {
        "id": "8pSVcUZASwd8"
      }
    }
  ]
}